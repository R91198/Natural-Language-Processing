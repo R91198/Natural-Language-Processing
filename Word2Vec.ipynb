{
 "cells": [
  {
   "cell_type": "markdown",
   "metadata": {},
   "source": [
    "## First of all, let's try to understand what is Word2Vec and why do we use it ? 🤔🤔 "
   ]
  },
  {
   "cell_type": "markdown",
   "metadata": {},
   "source": [
    "So, in both Bag of Words and TF-IDF approaches(check out my tutorial in this repo in case you missed it out), the semantic information isn't stored i.e. these techniques do not give any relationship between different words present in the corpus(text data). Also, TF-IDF model gives importance to uncommon words. One more drawback of these similar kinds of approaches is that these models are prone to overfit. So, in order to solve these kind of problems, we use Word2Vec model.   "
   ]
  },
  {
   "cell_type": "markdown",
   "metadata": {},
   "source": [
    "In this specific model(Word2Vec), each word is basically represented as a vector of 32 or more dimensions instead of a single like '1's or '0's as represented in Bag of Words and TF-IDF. Here, the semantic information and relation between different words is also preserved. So, this is why it is being used more extensively as compared to Bag of Words & TF-IDF. Now, let's dig into the application part, shall we..? 🤓 "
   ]
  },
  {
   "cell_type": "code",
   "execution_count": 2,
   "metadata": {},
   "outputs": [],
   "source": [
    "# Import the essential libraries\n",
    "import nltk\n",
    "from gensim.models import Word2Vec\n",
    "from nltk.corpus import stopwords\n",
    "import re"
   ]
  },
  {
   "cell_type": "code",
   "execution_count": 3,
   "metadata": {},
   "outputs": [],
   "source": [
    "# Corpus\n",
    "paragraph = \"\"\" Madrid have been ruthless since the resumption, winning all eight games and conceding \n",
    "                just two goals over that stretch.But debate rages over the merits of this Madrid team,\n",
    "                who arguably lack the panache of previous Los Blancos sides but have shown themselves to be a \n",
    "                winning machine, unlike some of their more celebrated forebears. \"It doesn't bother me or \n",
    "                surprise me, it's always the same debate,\" Zidane told a news conference on Sunday.\"We prove in \n",
    "                every game and every training session that we are good. We have to show it. Everyone will give \n",
    "                their opinion on what they think of Real Madrid because it is the most important club in history \n",
    "                and this will never change.\"Zidane, once the unpredictable flair player in Madrid's midfield, \n",
    "                has become the straight man of the media room, a serious figure and a coach who has brought the \n",
    "                best out of many of his players.Rather than consider the prospect of another championship, with \n",
    "                Villarreal on Thursday and Leganes on Sunday the other remaining games for Madrid, Zidane's focus\n",
    "                does not deviate from the immediate task at hand.\"La Liga and the Champions League are the goal \n",
    "                and what we fight for, but it is useless if we look beyond tomorrow's game,\" he said. \"This is the \n",
    "                last week and there are three games. It is the most difficult, but the most important. All the \n",
    "                teams have things to play for and we want to put all our energy into tomorrow's game.\"Zidane \n",
    "                clearly finds the suggestion his team have had the better of VAR decisions over recent weeks to \n",
    "                be thoroughly tedious, amid claims Barcelona have had a relatively raw deal.\"Everyone can give \n",
    "                their opinion, I don't mess with the opinions of others,\" he said, when asked about the VAR talk.\n",
    "                \"What we are doing is giving everything on the pitch and putting in a great effort every day.\n",
    "                That is what I'm interested in.\" \"\"\""
   ]
  },
  {
   "cell_type": "code",
   "execution_count": 5,
   "metadata": {},
   "outputs": [],
   "source": [
    "# Pre-processing the data\n",
    "text = re.sub(r'\\[[0-9]*\\]',' ',paragraph)\n",
    "text = re.sub(r'\\s+',' ',text)\n",
    "text = text.lower()\n",
    "text = re.sub(r'\\d',' ',text)\n",
    "text = re.sub(r'\\s+',' ',text)"
   ]
  },
  {
   "cell_type": "code",
   "execution_count": 9,
   "metadata": {},
   "outputs": [],
   "source": [
    "# Preparing the dataset\n",
    "sentences = nltk.sent_tokenize(text)\n",
    "\n",
    "sentences = [nltk.word_tokenize(sentence) for sentence in sentences]\n",
    "\n",
    "for i in range(len(sentences)):\n",
    "    sentences[i] = [word for word in sentences[i] if word not in stopwords.words('english')]"
   ]
  },
  {
   "cell_type": "code",
   "execution_count": 11,
   "metadata": {},
   "outputs": [],
   "source": [
    "# Training the Word2Vec model\n",
    "model = Word2Vec(sentences, min_count = 1)"
   ]
  },
  {
   "cell_type": "code",
   "execution_count": 15,
   "metadata": {},
   "outputs": [
    {
     "data": {
      "text/plain": [
       "{'madrid': <gensim.models.keyedvectors.Vocab at 0x7f9a204b8dc0>,\n",
       " 'ruthless': <gensim.models.keyedvectors.Vocab at 0x7f9a204b8eb0>,\n",
       " 'since': <gensim.models.keyedvectors.Vocab at 0x7f9a204b80a0>,\n",
       " 'resumption': <gensim.models.keyedvectors.Vocab at 0x7f9a202de400>,\n",
       " ',': <gensim.models.keyedvectors.Vocab at 0x7f9a202de340>,\n",
       " 'winning': <gensim.models.keyedvectors.Vocab at 0x7f9a202de2e0>,\n",
       " 'eight': <gensim.models.keyedvectors.Vocab at 0x7f9a202de1f0>,\n",
       " 'games': <gensim.models.keyedvectors.Vocab at 0x7f9a202de100>,\n",
       " 'conceding': <gensim.models.keyedvectors.Vocab at 0x7f9a202de1c0>,\n",
       " 'two': <gensim.models.keyedvectors.Vocab at 0x7f9a202de130>,\n",
       " 'goals': <gensim.models.keyedvectors.Vocab at 0x7f9a202de040>,\n",
       " 'stretch.but': <gensim.models.keyedvectors.Vocab at 0x7f9a202de220>,\n",
       " 'debate': <gensim.models.keyedvectors.Vocab at 0x7f9a202de490>,\n",
       " 'rages': <gensim.models.keyedvectors.Vocab at 0x7f9a204b13d0>,\n",
       " 'merits': <gensim.models.keyedvectors.Vocab at 0x7f9a204b11f0>,\n",
       " 'team': <gensim.models.keyedvectors.Vocab at 0x7f9a204b1700>,\n",
       " 'arguably': <gensim.models.keyedvectors.Vocab at 0x7f9a204b1a90>,\n",
       " 'lack': <gensim.models.keyedvectors.Vocab at 0x7f9a20343eb0>,\n",
       " 'panache': <gensim.models.keyedvectors.Vocab at 0x7f9a20343c10>,\n",
       " 'previous': <gensim.models.keyedvectors.Vocab at 0x7f9a20343d30>,\n",
       " 'los': <gensim.models.keyedvectors.Vocab at 0x7f9a203435e0>,\n",
       " 'blancos': <gensim.models.keyedvectors.Vocab at 0x7f9a20343fd0>,\n",
       " 'sides': <gensim.models.keyedvectors.Vocab at 0x7f9a203435b0>,\n",
       " 'shown': <gensim.models.keyedvectors.Vocab at 0x7f9a20343fa0>,\n",
       " 'machine': <gensim.models.keyedvectors.Vocab at 0x7f9a20343790>,\n",
       " 'unlike': <gensim.models.keyedvectors.Vocab at 0x7f9a2034f100>,\n",
       " 'celebrated': <gensim.models.keyedvectors.Vocab at 0x7f9a2034f340>,\n",
       " 'forebears': <gensim.models.keyedvectors.Vocab at 0x7f9a2034f220>,\n",
       " '.': <gensim.models.keyedvectors.Vocab at 0x7f9a2034f970>,\n",
       " '``': <gensim.models.keyedvectors.Vocab at 0x7f9a2034fca0>,\n",
       " \"n't\": <gensim.models.keyedvectors.Vocab at 0x7f9a2034ffd0>,\n",
       " 'bother': <gensim.models.keyedvectors.Vocab at 0x7f9a2034ff70>,\n",
       " 'surprise': <gensim.models.keyedvectors.Vocab at 0x7f9a202e0580>,\n",
       " \"'s\": <gensim.models.keyedvectors.Vocab at 0x7f9a202e0460>,\n",
       " 'always': <gensim.models.keyedvectors.Vocab at 0x7f9a202e0400>,\n",
       " \"''\": <gensim.models.keyedvectors.Vocab at 0x7f9a202e02b0>,\n",
       " 'zidane': <gensim.models.keyedvectors.Vocab at 0x7f9a202e0880>,\n",
       " 'told': <gensim.models.keyedvectors.Vocab at 0x7f9a202e02e0>,\n",
       " 'news': <gensim.models.keyedvectors.Vocab at 0x7f9a202e0e20>,\n",
       " 'conference': <gensim.models.keyedvectors.Vocab at 0x7f9a202e04c0>,\n",
       " 'sunday': <gensim.models.keyedvectors.Vocab at 0x7f9a202e0610>,\n",
       " 'prove': <gensim.models.keyedvectors.Vocab at 0x7f9a20353940>,\n",
       " 'every': <gensim.models.keyedvectors.Vocab at 0x7f9a20353070>,\n",
       " 'game': <gensim.models.keyedvectors.Vocab at 0x7f9a20353130>,\n",
       " 'training': <gensim.models.keyedvectors.Vocab at 0x7f9a203532b0>,\n",
       " 'session': <gensim.models.keyedvectors.Vocab at 0x7f9a203535e0>,\n",
       " 'good': <gensim.models.keyedvectors.Vocab at 0x7f9a203531c0>,\n",
       " 'show': <gensim.models.keyedvectors.Vocab at 0x7f9a203532e0>,\n",
       " 'everyone': <gensim.models.keyedvectors.Vocab at 0x7f9a203536a0>,\n",
       " 'give': <gensim.models.keyedvectors.Vocab at 0x7f9a203537f0>,\n",
       " 'opinion': <gensim.models.keyedvectors.Vocab at 0x7f9a203533d0>,\n",
       " 'think': <gensim.models.keyedvectors.Vocab at 0x7f9a20353880>,\n",
       " 'real': <gensim.models.keyedvectors.Vocab at 0x7f9a20353ac0>,\n",
       " 'important': <gensim.models.keyedvectors.Vocab at 0x7f9a20353970>,\n",
       " 'club': <gensim.models.keyedvectors.Vocab at 0x7f9a20353a00>,\n",
       " 'history': <gensim.models.keyedvectors.Vocab at 0x7f9a20353b50>,\n",
       " 'never': <gensim.models.keyedvectors.Vocab at 0x7f9a20353be0>,\n",
       " 'change': <gensim.models.keyedvectors.Vocab at 0x7f9a20353d00>,\n",
       " 'unpredictable': <gensim.models.keyedvectors.Vocab at 0x7f9a20353ee0>,\n",
       " 'flair': <gensim.models.keyedvectors.Vocab at 0x7f9a20353c70>,\n",
       " 'player': <gensim.models.keyedvectors.Vocab at 0x7f9a1d34d850>,\n",
       " 'midfield': <gensim.models.keyedvectors.Vocab at 0x7f9a20355340>,\n",
       " 'become': <gensim.models.keyedvectors.Vocab at 0x7f9a20355220>,\n",
       " 'straight': <gensim.models.keyedvectors.Vocab at 0x7f9a20355280>,\n",
       " 'man': <gensim.models.keyedvectors.Vocab at 0x7f9a20355310>,\n",
       " 'media': <gensim.models.keyedvectors.Vocab at 0x7f9a20355430>,\n",
       " 'room': <gensim.models.keyedvectors.Vocab at 0x7f9a203554c0>,\n",
       " 'serious': <gensim.models.keyedvectors.Vocab at 0x7f9a20355550>,\n",
       " 'figure': <gensim.models.keyedvectors.Vocab at 0x7f9a203558b0>,\n",
       " 'coach': <gensim.models.keyedvectors.Vocab at 0x7f9a20355820>,\n",
       " 'brought': <gensim.models.keyedvectors.Vocab at 0x7f9a20355a30>,\n",
       " 'best': <gensim.models.keyedvectors.Vocab at 0x7f9a20355af0>,\n",
       " 'many': <gensim.models.keyedvectors.Vocab at 0x7f9a20355df0>,\n",
       " 'players.rather': <gensim.models.keyedvectors.Vocab at 0x7f9a20355be0>,\n",
       " 'consider': <gensim.models.keyedvectors.Vocab at 0x7f9a20355ca0>,\n",
       " 'prospect': <gensim.models.keyedvectors.Vocab at 0x7f9a2049e460>,\n",
       " 'another': <gensim.models.keyedvectors.Vocab at 0x7f9a2049e280>,\n",
       " 'championship': <gensim.models.keyedvectors.Vocab at 0x7f9a2049e610>,\n",
       " 'villarreal': <gensim.models.keyedvectors.Vocab at 0x7f9a2049e910>,\n",
       " 'thursday': <gensim.models.keyedvectors.Vocab at 0x7f9a2049e6d0>,\n",
       " 'leganes': <gensim.models.keyedvectors.Vocab at 0x7f9a201f6130>,\n",
       " 'remaining': <gensim.models.keyedvectors.Vocab at 0x7f9a201f63d0>,\n",
       " 'focus': <gensim.models.keyedvectors.Vocab at 0x7f9a201f6100>,\n",
       " 'deviate': <gensim.models.keyedvectors.Vocab at 0x7f9a201f6640>,\n",
       " 'immediate': <gensim.models.keyedvectors.Vocab at 0x7f9a201f6160>,\n",
       " 'task': <gensim.models.keyedvectors.Vocab at 0x7f9a201f61f0>,\n",
       " 'hand': <gensim.models.keyedvectors.Vocab at 0x7f9a201f63a0>,\n",
       " 'la': <gensim.models.keyedvectors.Vocab at 0x7f9a201f6430>,\n",
       " 'liga': <gensim.models.keyedvectors.Vocab at 0x7f9a201f6c40>,\n",
       " 'champions': <gensim.models.keyedvectors.Vocab at 0x7f9a201f64c0>,\n",
       " 'league': <gensim.models.keyedvectors.Vocab at 0x7f9a201f6250>,\n",
       " 'goal': <gensim.models.keyedvectors.Vocab at 0x7f9a201f6310>,\n",
       " 'fight': <gensim.models.keyedvectors.Vocab at 0x7f9a201f6b20>,\n",
       " 'useless': <gensim.models.keyedvectors.Vocab at 0x7f9a201f6be0>,\n",
       " 'look': <gensim.models.keyedvectors.Vocab at 0x7f9a201f6610>,\n",
       " 'beyond': <gensim.models.keyedvectors.Vocab at 0x7f9a201f69a0>,\n",
       " 'tomorrow': <gensim.models.keyedvectors.Vocab at 0x7f9a203611c0>,\n",
       " 'said': <gensim.models.keyedvectors.Vocab at 0x7f9a203610a0>,\n",
       " 'last': <gensim.models.keyedvectors.Vocab at 0x7f9a20361130>,\n",
       " 'week': <gensim.models.keyedvectors.Vocab at 0x7f9a20361250>,\n",
       " 'three': <gensim.models.keyedvectors.Vocab at 0x7f9a20361370>,\n",
       " 'difficult': <gensim.models.keyedvectors.Vocab at 0x7f9a203612e0>,\n",
       " 'teams': <gensim.models.keyedvectors.Vocab at 0x7f9a20361400>,\n",
       " 'things': <gensim.models.keyedvectors.Vocab at 0x7f9a203614f0>,\n",
       " 'play': <gensim.models.keyedvectors.Vocab at 0x7f9a20361520>,\n",
       " 'want': <gensim.models.keyedvectors.Vocab at 0x7f9a203615b0>,\n",
       " 'put': <gensim.models.keyedvectors.Vocab at 0x7f9a20361640>,\n",
       " 'energy': <gensim.models.keyedvectors.Vocab at 0x7f9a203616d0>,\n",
       " 'clearly': <gensim.models.keyedvectors.Vocab at 0x7f9a20361760>,\n",
       " 'finds': <gensim.models.keyedvectors.Vocab at 0x7f9a203617f0>,\n",
       " 'suggestion': <gensim.models.keyedvectors.Vocab at 0x7f9a20361850>,\n",
       " 'better': <gensim.models.keyedvectors.Vocab at 0x7f9a20361c70>,\n",
       " 'var': <gensim.models.keyedvectors.Vocab at 0x7f9a20361be0>,\n",
       " 'decisions': <gensim.models.keyedvectors.Vocab at 0x7f9a20361d30>,\n",
       " 'recent': <gensim.models.keyedvectors.Vocab at 0x7f9a20361dc0>,\n",
       " 'weeks': <gensim.models.keyedvectors.Vocab at 0x7f9a20361e50>,\n",
       " 'thoroughly': <gensim.models.keyedvectors.Vocab at 0x7f9a20361ee0>,\n",
       " 'tedious': <gensim.models.keyedvectors.Vocab at 0x7f9a20361f70>,\n",
       " 'amid': <gensim.models.keyedvectors.Vocab at 0x7f9a1e349490>,\n",
       " 'claims': <gensim.models.keyedvectors.Vocab at 0x7f9a1e3492b0>,\n",
       " 'barcelona': <gensim.models.keyedvectors.Vocab at 0x7f9a1e32d460>,\n",
       " 'relatively': <gensim.models.keyedvectors.Vocab at 0x7f9a1e32d190>,\n",
       " 'raw': <gensim.models.keyedvectors.Vocab at 0x7f9a1e32dfa0>,\n",
       " 'deal': <gensim.models.keyedvectors.Vocab at 0x7f9a1e32dcd0>,\n",
       " 'mess': <gensim.models.keyedvectors.Vocab at 0x7f9a1e32d910>,\n",
       " 'opinions': <gensim.models.keyedvectors.Vocab at 0x7f9a1e32d0a0>,\n",
       " 'others': <gensim.models.keyedvectors.Vocab at 0x7f9a1e32d730>,\n",
       " 'asked': <gensim.models.keyedvectors.Vocab at 0x7f9a1e32d370>,\n",
       " 'talk': <gensim.models.keyedvectors.Vocab at 0x7f9a1e347130>,\n",
       " 'giving': <gensim.models.keyedvectors.Vocab at 0x7f9a1e3472b0>,\n",
       " 'everything': <gensim.models.keyedvectors.Vocab at 0x7f9a1e3475e0>,\n",
       " 'pitch': <gensim.models.keyedvectors.Vocab at 0x7f9a1e347760>,\n",
       " 'putting': <gensim.models.keyedvectors.Vocab at 0x7f9a1e347a90>,\n",
       " 'great': <gensim.models.keyedvectors.Vocab at 0x7f9a1e347c10>,\n",
       " 'effort': <gensim.models.keyedvectors.Vocab at 0x7f9a1e347f40>,\n",
       " 'day': <gensim.models.keyedvectors.Vocab at 0x7f9a1e347dc0>,\n",
       " \"'m\": <gensim.models.keyedvectors.Vocab at 0x7f9a1e347fa0>,\n",
       " 'interested': <gensim.models.keyedvectors.Vocab at 0x7f9a1e347730>}"
      ]
     },
     "execution_count": 15,
     "metadata": {},
     "output_type": "execute_result"
    }
   ],
   "source": [
    "words = model.wv.vocab\n",
    "words"
   ]
  },
  {
   "cell_type": "code",
   "execution_count": 25,
   "metadata": {},
   "outputs": [
    {
     "name": "stdout",
     "output_type": "stream",
     "text": [
      "[ 1.1201098e-03 -3.7991805e-03  1.0027046e-03 -1.7689388e-04\n",
      " -3.2557251e-03  2.7372090e-03  3.8887151e-03 -3.0097296e-03\n",
      "  1.3236266e-04  2.5157051e-03  3.8946446e-03 -3.1804652e-03\n",
      " -4.9434984e-03  2.1939385e-03 -1.3319448e-03 -2.9347437e-03\n",
      "  2.9161039e-05 -2.5931676e-04 -3.6120864e-03  1.2433172e-03\n",
      " -3.7393270e-03 -7.0426444e-04  3.6719195e-03  2.3540715e-04\n",
      " -3.5613176e-04  4.4214949e-03  2.4982304e-03 -4.1793282e-03\n",
      "  4.9951570e-03 -3.3476399e-03  4.8449202e-03  1.4846472e-03\n",
      " -3.5903414e-03 -3.8403061e-03 -1.1529298e-04 -3.2067921e-03\n",
      " -4.9406663e-03 -2.8246532e-03 -4.0935874e-03  3.3758450e-03\n",
      " -4.6605202e-03  4.4073304e-04  2.9095442e-03  3.9463080e-03\n",
      " -4.3793595e-03  1.9753310e-04 -4.3580853e-03 -4.7668824e-03\n",
      " -1.4448996e-03 -4.5487345e-03 -3.7319696e-04 -1.8238208e-03\n",
      " -3.0922391e-03  1.9204508e-03  3.7903769e-03  4.8648543e-03\n",
      "  3.9430580e-04  3.4690206e-03 -1.8686753e-04  2.4903398e-03\n",
      "  2.9838332e-03  3.9719781e-03 -4.4967751e-03 -4.1384646e-03\n",
      "  3.5127637e-03  3.1633319e-03 -4.0106317e-03 -3.4340629e-03\n",
      " -8.3466491e-04  2.0306685e-03 -3.3996981e-03 -1.0979511e-03\n",
      "  1.4510337e-03  4.5574931e-03 -2.2942873e-03  3.9183381e-03\n",
      "  1.7066869e-03  1.9344682e-04 -2.6362468e-03 -2.0181574e-03\n",
      " -3.2697266e-03  2.2195599e-03 -2.8057855e-03  4.0589306e-03\n",
      "  1.9156956e-03 -2.1864611e-03  4.1445456e-03  4.1098599e-03\n",
      " -8.0598559e-04  3.8820337e-05 -2.9921809e-03  4.4001355e-03\n",
      " -2.1649427e-03  4.3595792e-03  2.1259144e-03  3.3296212e-03\n",
      "  3.2319413e-03  9.5563440e-04  2.6067294e-04 -3.1444465e-03]\n",
      "\n",
      " Shape: (100,)\n"
     ]
    }
   ],
   "source": [
    "# Finding the vectors and it's shape for any word present in our text corpus\n",
    "vectors = model.wv['zidane']\n",
    "print(vectors)\n",
    "print('\\n Shape:',vectors.shape)"
   ]
  },
  {
   "cell_type": "code",
   "execution_count": 28,
   "metadata": {},
   "outputs": [
    {
     "data": {
      "text/plain": [
       "[(\"'m\", 0.24366071820259094),\n",
       " ('always', 0.2218143343925476),\n",
       " ('championship', 0.2087278664112091),\n",
       " ('merits', 0.18880674242973328),\n",
       " ('goal', 0.14808715879917145),\n",
       " ('better', 0.1468127965927124),\n",
       " ('training', 0.14571413397789001),\n",
       " ('everything', 0.14134114980697632),\n",
       " ('relatively', 0.13222773373126984),\n",
       " ('hand', 0.12835456430912018)]"
      ]
     },
     "execution_count": 28,
     "metadata": {},
     "output_type": "execute_result"
    }
   ],
   "source": [
    "# Most similar words\n",
    "similar = model.wv.most_similar('zidane')\n",
    "similar"
   ]
  },
  {
   "cell_type": "markdown",
   "metadata": {},
   "source": [
    "### So, this was Word2Vec model. Now, it's your turn to try this out by yourself. Till then, PEACE...✌️"
   ]
  },
  {
   "cell_type": "code",
   "execution_count": null,
   "metadata": {},
   "outputs": [],
   "source": []
  }
 ],
 "metadata": {
  "kernelspec": {
   "display_name": "Python 3",
   "language": "python",
   "name": "python3"
  },
  "language_info": {
   "codemirror_mode": {
    "name": "ipython",
    "version": 3
   },
   "file_extension": ".py",
   "mimetype": "text/x-python",
   "name": "python",
   "nbconvert_exporter": "python",
   "pygments_lexer": "ipython3",
   "version": "3.8.3"
  }
 },
 "nbformat": 4,
 "nbformat_minor": 4
}
