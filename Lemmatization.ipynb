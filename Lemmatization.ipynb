{
 "cells": [
  {
   "cell_type": "code",
   "execution_count": 1,
   "metadata": {},
   "outputs": [],
   "source": [
    "# Importing the libraries\n",
    "import nltk\n",
    "\n",
    "# Used for implementation of Lemmatization \n",
    "from nltk.stem import WordNetLemmatizer\n",
    "\n",
    "# Used for the removal of common words such as 'of', 'the', 'a',etc which are not relevant to our model\n",
    "from nltk.corpus import stopwords"
   ]
  },
  {
   "cell_type": "code",
   "execution_count": 2,
   "metadata": {},
   "outputs": [],
   "source": [
    "paragraph = \"\"\"Real Madrid simply show no sign of letting up. The LaLiga table-toppers saw off Alavés at \n",
    "               the Di Stéfano to make it eight wins on the bounce and retain the four-point buffer at the \n",
    "               summit with three games to go. The Madrid goals came from Karim Benzema, who converted \n",
    "               from the spot, whilst Marco Asensio was also on the mark for the hosts, who recorded a fifth \n",
    "               successive shutout. Ferland Mendy started at left wing-back, with Lucas Vázquez occupying \n",
    "               the right wing-back berth and inside the first minute, the pair were involved in the madridistas' \n",
    "               first forward foray, which culminated in Luka Modric sending his effort wide of the target. \n",
    "               The Alavés response wasn't long in coming and Joselu's headed effort struck the crossbar, \n",
    "               whilst Raphaël Varane cleared a Lucas Pérez's follow-up off the line. It looked as if we were \n",
    "               in store for a high-tempo affair and just after the 10-minute mark, Mendy once again showed what a \n",
    "               threat he is down the left. Ximo Navarro upended the Frenchman in the area and Benzema stepped \n",
    "               up to make it 1-0. With 12 minutes gone, Toni Kroos’ did his best to find the top corner, before a \n",
    "               fierce Mendy cross nearly forced Camarasa to turn into his own net on 17’. The Blanquiazules refused\n",
    "               to roll over though, with Oliver Burke proving a constant nuisance for the defence and testing\n",
    "               Thibaut Courtois, despite the final chances before the break falling to Rodrygo and Benzema. \n",
    "               After the restart, referee Gil Manzano retired injured and by the time the 50th minute came around, \n",
    "               Madrid had added to their advantage. Benzema and Asensio raced through on goal, up against Roberto, \n",
    "               and the Balearic Island-born forward stroked home with ease, though his goal was originally ruled \n",
    "               out for offside before being correctly awarded by VAR.\"\"\""
   ]
  },
  {
   "cell_type": "code",
   "execution_count": 4,
   "metadata": {},
   "outputs": [
    {
     "data": {
      "text/plain": [
       "['Real Madrid simply show no sign of letting up.',\n",
       " 'The LaLiga table-toppers saw off Alavés at \\n               the Di Stéfano to make it eight wins on the bounce and retain the four-point buffer at the \\n               summit with three games to go.',\n",
       " 'The Madrid goals came from Karim Benzema, who converted \\n               from the spot, whilst Marco Asensio was also on the mark for the hosts, who recorded a fifth \\n               successive shutout.',\n",
       " \"Ferland Mendy started at left wing-back, with Lucas Vázquez occupying \\n               the right wing-back berth and inside the first minute, the pair were involved in the madridistas' \\n               first forward foray, which culminated in Luka Modric sending his effort wide of the target.\",\n",
       " \"The Alavés response wasn't long in coming and Joselu's headed effort struck the crossbar, \\n               whilst Raphaël Varane cleared a Lucas Pérez's follow-up off the line.\",\n",
       " 'It looked as if we were \\n               in store for a high-tempo affair and just after the 10-minute mark, Mendy once again showed what a \\n               threat he is down the left.',\n",
       " 'Ximo Navarro upended the Frenchman in the area and Benzema stepped \\n               up to make it 1-0.',\n",
       " 'With 12 minutes gone, Toni Kroos’ did his best to find the top corner, before a \\n               fierce Mendy cross nearly forced Camarasa to turn into his own net on 17’.',\n",
       " 'The Blanquiazules refused\\n               to roll over though, with Oliver Burke proving a constant nuisance for the defence and testing\\n               Thibaut Courtois, despite the final chances before the break falling to Rodrygo and Benzema.',\n",
       " 'After the restart, referee Gil Manzano retired injured and by the time the 50th minute came around, \\n               Madrid had added to their advantage.',\n",
       " 'Benzema and Asensio raced through on goal, up against Roberto, \\n               and the Balearic Island-born forward stroked home with ease, though his goal was originally ruled \\n               out for offside before being correctly awarded by VAR.']"
      ]
     },
     "execution_count": 4,
     "metadata": {},
     "output_type": "execute_result"
    }
   ],
   "source": [
    "# Converting the whole paragraph into sentences\n",
    "sentences = nltk.sent_tokenize(paragraph)\n",
    "sentences"
   ]
  },
  {
   "cell_type": "code",
   "execution_count": 5,
   "metadata": {},
   "outputs": [],
   "source": [
    "# Creating the object\n",
    "lemmatizer = WordNetLemmatizer()\n",
    "\n",
    "# Lemmatization\n",
    "for i in range(len(sentences)):\n",
    "    words = nltk.word_tokenize(sentences[i])\n",
    "    words = [lemmatizer.lemmatize(word) for word in words if word not in set(stopwords.words('english'))]\n",
    "    sentences[i] = ' '.join(words)"
   ]
  },
  {
   "cell_type": "code",
   "execution_count": 6,
   "metadata": {},
   "outputs": [
    {
     "data": {
      "text/plain": [
       "['Benzema',\n",
       " 'Asensio',\n",
       " 'raced',\n",
       " 'goal',\n",
       " ',',\n",
       " 'Roberto',\n",
       " ',',\n",
       " 'Balearic',\n",
       " 'Island-born',\n",
       " 'forward',\n",
       " 'stroked',\n",
       " 'home',\n",
       " 'ease',\n",
       " ',',\n",
       " 'though',\n",
       " 'goal',\n",
       " 'originally',\n",
       " 'ruled',\n",
       " 'offside',\n",
       " 'correctly',\n",
       " 'awarded',\n",
       " 'VAR',\n",
       " '.']"
      ]
     },
     "execution_count": 6,
     "metadata": {},
     "output_type": "execute_result"
    }
   ],
   "source": [
    "# Resultant list of words\n",
    "words"
   ]
  },
  {
   "cell_type": "code",
   "execution_count": 7,
   "metadata": {},
   "outputs": [
    {
     "data": {
      "text/plain": [
       "'Benzema Asensio raced goal , Roberto , Balearic Island-born forward stroked home ease , though goal originally ruled offside correctly awarded VAR .'"
      ]
     },
     "execution_count": 7,
     "metadata": {},
     "output_type": "execute_result"
    }
   ],
   "source": [
    "# Resultant sentences \n",
    "sentences[i]"
   ]
  },
  {
   "cell_type": "markdown",
   "metadata": {},
   "source": [
    "##### So, if you compare this representation of words and sentences to that of the resultant 'Stemming' words and sentences, you'll find out that in Lemmatization, it not only removed various stopwords present in the input data, but also it converted the remaining words into a meaningful representation that is understandable to a human brain."
   ]
  },
  {
   "cell_type": "markdown",
   "metadata": {},
   "source": [
    "### Now, it's your turn to try this out by yourself. Till then, PEACE...✌️ "
   ]
  },
  {
   "cell_type": "code",
   "execution_count": null,
   "metadata": {},
   "outputs": [],
   "source": []
  }
 ],
 "metadata": {
  "kernelspec": {
   "display_name": "Python 3",
   "language": "python",
   "name": "python3"
  },
  "language_info": {
   "codemirror_mode": {
    "name": "ipython",
    "version": 3
   },
   "file_extension": ".py",
   "mimetype": "text/x-python",
   "name": "python",
   "nbconvert_exporter": "python",
   "pygments_lexer": "ipython3",
   "version": "3.8.3"
  }
 },
 "nbformat": 4,
 "nbformat_minor": 4
}
