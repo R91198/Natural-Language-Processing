{
 "cells": [
  {
   "cell_type": "code",
   "execution_count": 1,
   "metadata": {},
   "outputs": [],
   "source": [
    "# Importing the library\n",
    "import nltk"
   ]
  },
  {
   "cell_type": "code",
   "execution_count": 2,
   "metadata": {},
   "outputs": [],
   "source": [
    "# Input text data\n",
    "paragraph = \"\"\"Real Madrid simply show no sign of letting up. The LaLiga table-toppers saw off Alavés at \n",
    "               the Di Stéfano to make it eight wins on the bounce and retain the four-point buffer at the \n",
    "               summit with three games to go. The Madrid goals came from Karim Benzema, who converted \n",
    "               from the spot, whilst Marco Asensio was also on the mark for the hosts, who recorded a fifth \n",
    "               successive shutout. Ferland Mendy started at left wing-back, with Lucas Vázquez occupying \n",
    "               the right wing-back berth and inside the first minute, the pair were involved in the madridistas' \n",
    "               first forward foray, which culminated in Luka Modric sending his effort wide of the target. \n",
    "               The Alavés response wasn't long in coming and Joselu's headed effort struck the crossbar, \n",
    "               whilst Raphaël Varane cleared a Lucas Pérez's follow-up off the line. It looked as if we were \n",
    "               in store for a high-tempo affair and just after the 10-minute mark, Mendy once again showed what a \n",
    "               threat he is down the left. Ximo Navarro upended the Frenchman in the area and Benzema stepped \n",
    "               up to make it 1-0. With 12 minutes gone, Toni Kroos’ did his best to find the top corner, before a \n",
    "               fierce Mendy cross nearly forced Camarasa to turn into his own net on 17’. The Blanquiazules refused\n",
    "               to roll over though, with Oliver Burke proving a constant nuisance for the defence and testing\n",
    "               Thibaut Courtois, despite the final chances before the break falling to Rodrygo and Benzema. \n",
    "               After the restart, referee Gil Manzano retired injured and by the time the 50th minute came around, \n",
    "               Madrid had added to their advantage. Benzema and Asensio raced through on goal, up against Roberto, \n",
    "               and the Balearic Island-born forward stroked home with ease, though his goal was originally ruled \n",
    "               out for offside before being correctly awarded by VAR.\"\"\""
   ]
  },
  {
   "cell_type": "code",
   "execution_count": 3,
   "metadata": {},
   "outputs": [],
   "source": [
    "import re # Used for cleaning the text such as commas, full-stops, question mark, etc\n",
    "from nltk.corpus import stopwords\n",
    "from nltk.stem.porter import PorterStemmer\n",
    "from nltk.stem import WordNetLemmatizer\n",
    "\n",
    "# Creating the object for Stemming and Lemmatization\n",
    "ps = PorterStemmer()\n",
    "wordnet = WordNetLemmatizer()"
   ]
  },
  {
   "cell_type": "markdown",
   "metadata": {},
   "source": [
    "### Stemming"
   ]
  },
  {
   "cell_type": "code",
   "execution_count": 4,
   "metadata": {},
   "outputs": [],
   "source": [
    "# Converting the paragraph into sentences\n",
    "sentences = nltk.sent_tokenize(paragraph)\n",
    "\n",
    "# storing the cleaned text\n",
    "corpus = []\n",
    "for i in range(len(sentences)):\n",
    "    review = re.sub('[^a-zA-Z]',' ', sentences[i]) # Here, we are replacing everything with spaces in the input paragraph apart from characters 'a-z' and 'A-Z'\n",
    "    review = review.lower()  # Lowering each and every sentence i.e. lowercase\n",
    "    review = review.split()  # When we apply this, we'll be getting the list of words from the sentences\n",
    "    review = [ps.stem(word) for word in review if not word in set(stopwords.words('english'))]\n",
    "    review = ' '.join(review)\n",
    "    corpus.append(review)\n"
   ]
  },
  {
   "cell_type": "code",
   "execution_count": 8,
   "metadata": {},
   "outputs": [
    {
     "data": {
      "text/plain": [
       "['Real Madrid simply show no sign of letting up.',\n",
       " 'The LaLiga table-toppers saw off Alavés at \\n               the Di Stéfano to make it eight wins on the bounce and retain the four-point buffer at the \\n               summit with three games to go.',\n",
       " 'The Madrid goals came from Karim Benzema, who converted \\n               from the spot, whilst Marco Asensio was also on the mark for the hosts, who recorded a fifth \\n               successive shutout.',\n",
       " \"Ferland Mendy started at left wing-back, with Lucas Vázquez occupying \\n               the right wing-back berth and inside the first minute, the pair were involved in the madridistas' \\n               first forward foray, which culminated in Luka Modric sending his effort wide of the target.\",\n",
       " \"The Alavés response wasn't long in coming and Joselu's headed effort struck the crossbar, \\n               whilst Raphaël Varane cleared a Lucas Pérez's follow-up off the line.\",\n",
       " 'It looked as if we were \\n               in store for a high-tempo affair and just after the 10-minute mark, Mendy once again showed what a \\n               threat he is down the left.',\n",
       " 'Ximo Navarro upended the Frenchman in the area and Benzema stepped \\n               up to make it 1-0.',\n",
       " 'With 12 minutes gone, Toni Kroos’ did his best to find the top corner, before a \\n               fierce Mendy cross nearly forced Camarasa to turn into his own net on 17’.',\n",
       " 'The Blanquiazules refused\\n               to roll over though, with Oliver Burke proving a constant nuisance for the defence and testing\\n               Thibaut Courtois, despite the final chances before the break falling to Rodrygo and Benzema.',\n",
       " 'After the restart, referee Gil Manzano retired injured and by the time the 50th minute came around, \\n               Madrid had added to their advantage.',\n",
       " 'Benzema and Asensio raced through on goal, up against Roberto, \\n               and the Balearic Island-born forward stroked home with ease, though his goal was originally ruled \\n               out for offside before being correctly awarded by VAR.']"
      ]
     },
     "execution_count": 8,
     "metadata": {},
     "output_type": "execute_result"
    }
   ],
   "source": [
    "sentences"
   ]
  },
  {
   "cell_type": "code",
   "execution_count": 7,
   "metadata": {},
   "outputs": [
    {
     "data": {
      "text/plain": [
       "['real madrid simpli show sign let',\n",
       " 'laliga tabl topper saw alav di st fano make eight win bounc retain four point buffer summit three game go',\n",
       " 'madrid goal came karim benzema convert spot whilst marco asensio also mark host record fifth success shutout',\n",
       " 'ferland mendi start left wing back luca v zquez occupi right wing back berth insid first minut pair involv madridista first forward foray culmin luka modric send effort wide target',\n",
       " 'alav respons long come joselu head effort struck crossbar whilst rapha l varan clear luca p rez follow line',\n",
       " 'look store high tempo affair minut mark mendi show threat left',\n",
       " 'ximo navarro upend frenchman area benzema step make',\n",
       " 'minut gone toni kroo best find top corner fierc mendi cross nearli forc camarasa turn net',\n",
       " 'blanquiazul refus roll though oliv burk prove constant nuisanc defenc test thibaut courtoi despit final chanc break fall rodrygo benzema',\n",
       " 'restart refere gil manzano retir injur time th minut came around madrid ad advantag',\n",
       " 'benzema asensio race goal roberto balear island born forward stroke home eas though goal origin rule offsid correctli award var']"
      ]
     },
     "execution_count": 7,
     "metadata": {},
     "output_type": "execute_result"
    }
   ],
   "source": [
    "corpus"
   ]
  },
  {
   "cell_type": "markdown",
   "metadata": {},
   "source": [
    "### Lemmatization"
   ]
  },
  {
   "cell_type": "code",
   "execution_count": 12,
   "metadata": {},
   "outputs": [],
   "source": [
    "# Converting the paragraph into sentences\n",
    "sentences = nltk.sent_tokenize(paragraph)\n",
    "\n",
    "# storing the cleaned text\n",
    "corpus = []\n",
    "for i in range(len(sentences)):\n",
    "    review = re.sub('[^a-zA-Z]',' ', sentences[i]) # Here, we are replacing everything with spaces in the input paragraph apart from characters 'a-z' and 'A-Z'\n",
    "    review = review.lower()  # Lowering each and every sentence i.e. lowercase\n",
    "    review = review.split()  # When we apply this, we'll be getting the list of words from the sentences\n",
    "    review = [wordnet.lemmatize(word) for word in review if not word in set(stopwords.words('english'))]\n",
    "    review = ' '.join(review)\n",
    "    corpus.append(review)"
   ]
  },
  {
   "cell_type": "code",
   "execution_count": 13,
   "metadata": {
    "scrolled": true
   },
   "outputs": [
    {
     "data": {
      "text/plain": [
       "['Real Madrid simply show no sign of letting up.',\n",
       " 'The LaLiga table-toppers saw off Alavés at \\n               the Di Stéfano to make it eight wins on the bounce and retain the four-point buffer at the \\n               summit with three games to go.',\n",
       " 'The Madrid goals came from Karim Benzema, who converted \\n               from the spot, whilst Marco Asensio was also on the mark for the hosts, who recorded a fifth \\n               successive shutout.',\n",
       " \"Ferland Mendy started at left wing-back, with Lucas Vázquez occupying \\n               the right wing-back berth and inside the first minute, the pair were involved in the madridistas' \\n               first forward foray, which culminated in Luka Modric sending his effort wide of the target.\",\n",
       " \"The Alavés response wasn't long in coming and Joselu's headed effort struck the crossbar, \\n               whilst Raphaël Varane cleared a Lucas Pérez's follow-up off the line.\",\n",
       " 'It looked as if we were \\n               in store for a high-tempo affair and just after the 10-minute mark, Mendy once again showed what a \\n               threat he is down the left.',\n",
       " 'Ximo Navarro upended the Frenchman in the area and Benzema stepped \\n               up to make it 1-0.',\n",
       " 'With 12 minutes gone, Toni Kroos’ did his best to find the top corner, before a \\n               fierce Mendy cross nearly forced Camarasa to turn into his own net on 17’.',\n",
       " 'The Blanquiazules refused\\n               to roll over though, with Oliver Burke proving a constant nuisance for the defence and testing\\n               Thibaut Courtois, despite the final chances before the break falling to Rodrygo and Benzema.',\n",
       " 'After the restart, referee Gil Manzano retired injured and by the time the 50th minute came around, \\n               Madrid had added to their advantage.',\n",
       " 'Benzema and Asensio raced through on goal, up against Roberto, \\n               and the Balearic Island-born forward stroked home with ease, though his goal was originally ruled \\n               out for offside before being correctly awarded by VAR.']"
      ]
     },
     "execution_count": 13,
     "metadata": {},
     "output_type": "execute_result"
    }
   ],
   "source": [
    "sentences"
   ]
  },
  {
   "cell_type": "code",
   "execution_count": 14,
   "metadata": {},
   "outputs": [
    {
     "data": {
      "text/plain": [
       "['real madrid simply show sign letting',\n",
       " 'laliga table topper saw alav di st fano make eight win bounce retain four point buffer summit three game go',\n",
       " 'madrid goal came karim benzema converted spot whilst marco asensio also mark host recorded fifth successive shutout',\n",
       " 'ferland mendy started left wing back lucas v zquez occupying right wing back berth inside first minute pair involved madridistas first forward foray culminated luka modric sending effort wide target',\n",
       " 'alav response long coming joselu headed effort struck crossbar whilst rapha l varane cleared lucas p rez follow line',\n",
       " 'looked store high tempo affair minute mark mendy showed threat left',\n",
       " 'ximo navarro upended frenchman area benzema stepped make',\n",
       " 'minute gone toni kroos best find top corner fierce mendy cross nearly forced camarasa turn net',\n",
       " 'blanquiazules refused roll though oliver burke proving constant nuisance defence testing thibaut courtois despite final chance break falling rodrygo benzema',\n",
       " 'restart referee gil manzano retired injured time th minute came around madrid added advantage',\n",
       " 'benzema asensio raced goal roberto balearic island born forward stroked home ease though goal originally ruled offside correctly awarded var']"
      ]
     },
     "execution_count": 14,
     "metadata": {},
     "output_type": "execute_result"
    }
   ],
   "source": [
    "corpus"
   ]
  },
  {
   "cell_type": "markdown",
   "metadata": {},
   "source": [
    "### Applying Bag of Words model"
   ]
  },
  {
   "cell_type": "code",
   "execution_count": 15,
   "metadata": {},
   "outputs": [],
   "source": [
    "# Importing the library\n",
    "from sklearn.feature_extraction.text import CountVectorizer\n",
    "\n",
    "# Creating the object \n",
    "cv = CountVectorizer()\n",
    "# Fit the model to the corpus\n",
    "X = cv.fit_transform(corpus).toarray()"
   ]
  },
  {
   "cell_type": "code",
   "execution_count": 25,
   "metadata": {},
   "outputs": [
    {
     "data": {
      "text/plain": [
       "(11, 152)"
      ]
     },
     "execution_count": 25,
     "metadata": {},
     "output_type": "execute_result"
    }
   ],
   "source": [
    "# Shape of the matrix\n",
    "X.shape"
   ]
  },
  {
   "cell_type": "code",
   "execution_count": 36,
   "metadata": {
    "scrolled": true
   },
   "outputs": [
    {
     "name": "stdout",
     "output_type": "stream",
     "text": [
      "[[0 0 0 0 0 0 0 0 0 0 0 0 0 0 0 0 0 0 0 0 0 0 0 0 0 0 0 0 0 0 0 0 0 0 0 0\n",
      "  0 0 0 0 0 0 0 0 0 0 0 0 0 0 0 0 0 0 0 0 0 0 0 0 0 0 0 0 0 0 0 0 0 0 0 1\n",
      "  0 0 0 0 0 1 0 0 0 0 0 0 0 0 0 0 0 0 0 0 0 0 0 0 0 0 0 1 0 0 0 0 0 0 0 0\n",
      "  0 0 0 0 0 0 0 1 0 0 1 1 0 0 0 0 0 0 0 0 0 0 0 0 0 0 0 0 0 0 0 0 0 0 0 0\n",
      "  0 0 0 0 0 0 0 0]\n",
      " [0 0 0 1 0 0 0 0 0 0 0 0 0 0 0 0 1 0 1 0 0 0 0 0 0 0 0 0 0 0 0 0 0 0 0 1\n",
      "  0 0 1 0 1 0 0 0 0 0 0 0 0 0 0 1 0 1 0 1 0 0 0 0 0 0 0 0 0 0 0 0 0 1 0 0\n",
      "  0 0 0 0 0 0 0 1 0 0 0 0 0 0 0 0 0 0 0 0 0 0 0 1 0 0 0 0 0 0 0 0 0 1 0 0\n",
      "  0 0 0 0 0 1 0 0 0 0 0 0 0 1 0 0 0 0 0 0 1 1 0 0 0 0 0 0 0 1 0 0 0 1 0 0\n",
      "  0 0 0 0 1 0 0 0]\n",
      " [0 0 0 0 1 0 0 1 0 0 0 1 0 0 0 0 0 0 0 0 0 1 0 0 0 0 1 0 0 0 0 0 0 0 0 0\n",
      "  0 0 0 0 0 0 0 1 0 0 0 0 0 0 0 0 0 0 0 0 1 0 0 0 0 1 0 0 0 0 0 1 0 0 0 0\n",
      "  0 0 0 0 0 1 0 0 0 1 1 0 0 0 0 0 0 0 0 0 0 0 0 0 0 0 0 0 1 0 0 0 0 0 0 0\n",
      "  0 0 0 0 0 0 0 0 0 1 0 0 1 0 0 0 0 0 0 1 0 0 0 0 0 0 0 0 0 0 0 0 0 0 0 0\n",
      "  0 0 1 0 0 0 0 0]\n",
      " [0 0 0 0 0 0 0 0 0 2 0 0 1 0 0 0 0 0 0 0 0 0 0 0 0 0 0 0 0 0 0 0 1 0 0 0\n",
      "  0 1 0 0 0 1 0 0 0 0 2 0 1 0 1 0 0 0 0 0 0 0 0 0 0 0 0 1 1 0 0 0 0 0 1 0\n",
      "  0 0 0 1 1 0 1 0 0 0 0 1 1 1 0 0 0 0 1 0 0 0 1 0 0 0 0 0 0 0 0 0 0 0 0 0\n",
      "  1 0 0 0 0 0 1 0 0 0 0 0 0 0 1 0 0 0 0 0 0 0 1 0 0 0 0 0 0 0 0 0 0 0 0 0\n",
      "  0 0 0 1 0 2 0 1]\n",
      " [0 0 0 1 0 0 0 0 0 0 0 0 0 0 0 0 0 0 0 0 0 0 0 1 1 0 0 0 0 0 0 1 0 0 0 0\n",
      "  0 1 0 0 0 0 0 0 0 0 0 1 0 0 0 0 0 0 0 0 0 0 1 0 0 0 0 0 0 0 1 0 0 0 0 0\n",
      "  1 1 0 1 0 0 0 0 0 0 0 0 0 0 0 0 0 0 0 0 0 0 0 0 0 0 1 0 0 0 0 1 0 0 0 1\n",
      "  0 0 0 0 0 0 0 0 0 0 0 0 0 0 0 0 0 0 1 0 0 0 0 0 0 0 0 0 0 0 0 0 0 0 0 0\n",
      "  0 1 1 0 0 0 0 0]\n",
      " [0 0 1 0 0 0 0 0 0 0 0 0 0 0 0 0 0 0 0 0 0 0 0 0 0 0 0 0 0 0 0 0 0 0 0 0\n",
      "  0 0 0 0 0 0 0 0 0 0 0 0 0 0 0 0 0 0 0 0 0 0 0 1 0 0 0 0 0 0 0 0 0 0 1 0\n",
      "  0 0 1 0 0 0 0 0 0 0 1 1 1 0 0 0 0 0 0 0 0 0 0 0 0 0 0 0 0 0 0 0 0 0 0 0\n",
      "  0 0 0 0 0 0 0 0 1 0 0 0 0 0 0 0 1 0 0 0 0 0 0 1 0 0 0 0 1 0 0 0 0 0 0 0\n",
      "  0 0 0 0 0 0 0 0]\n",
      " [0 0 0 0 0 1 0 0 0 0 0 1 0 0 0 0 0 0 0 0 0 0 0 0 0 0 0 0 0 0 0 0 0 0 0 0\n",
      "  0 0 0 0 0 0 0 0 0 0 0 0 0 0 0 0 1 0 0 0 0 0 0 0 0 0 0 0 0 0 0 0 0 0 0 0\n",
      "  0 0 0 0 0 0 0 1 0 0 0 0 0 0 1 0 0 0 0 0 0 0 0 0 0 0 0 0 0 0 0 0 0 0 0 0\n",
      "  0 0 0 0 0 0 0 0 0 0 0 0 0 0 0 1 0 0 0 0 0 0 0 0 0 0 0 0 0 0 0 0 0 0 0 1\n",
      "  0 0 0 0 0 0 1 0]\n",
      " [0 0 0 0 0 0 0 0 0 0 0 0 0 1 0 0 0 0 0 0 1 0 0 0 0 0 0 1 0 0 1 0 0 0 0 0\n",
      "  0 0 0 0 0 0 1 0 0 1 0 0 0 1 0 0 0 0 0 0 0 1 0 0 0 0 0 0 0 0 0 0 1 0 0 0\n",
      "  0 0 0 0 0 0 0 0 0 0 0 1 1 0 0 1 1 0 0 0 0 0 0 0 0 0 0 0 0 0 0 0 0 0 0 0\n",
      "  0 0 0 0 0 0 0 0 0 0 0 0 0 0 0 0 0 0 0 0 0 0 0 0 0 0 0 0 0 0 0 1 1 0 1 0\n",
      "  0 0 0 0 0 0 0 0]\n",
      " [0 0 0 0 0 0 0 0 0 0 0 1 0 0 1 0 0 1 0 1 0 0 1 0 0 1 0 0 0 1 0 0 0 1 1 0\n",
      "  0 0 0 1 0 0 0 0 1 0 0 0 0 0 0 0 0 0 0 0 0 0 0 0 0 0 0 0 0 0 0 0 0 0 0 0\n",
      "  0 0 0 0 0 0 0 0 0 0 0 0 0 0 0 0 0 1 0 0 1 0 0 0 1 0 0 0 0 0 1 0 0 0 0 0\n",
      "  0 0 1 1 0 0 0 0 0 0 0 0 0 0 0 0 0 0 0 0 0 0 0 0 1 0 1 1 0 0 0 0 0 0 0 0\n",
      "  0 0 0 0 0 0 0 0]\n",
      " [1 1 0 0 0 0 1 0 0 0 0 0 0 0 0 0 0 0 0 0 0 1 0 0 0 0 0 0 0 0 0 0 0 0 0 0\n",
      "  0 0 0 0 0 0 0 0 0 0 0 0 0 0 0 0 0 0 1 0 0 0 0 0 0 0 1 0 0 0 0 0 0 0 0 0\n",
      "  0 0 0 0 0 1 0 0 1 0 0 0 1 0 0 0 0 0 0 0 0 0 0 0 0 0 0 0 0 1 0 0 1 0 1 0\n",
      "  0 0 0 0 0 0 0 0 0 0 0 0 0 0 0 0 0 0 0 0 0 0 0 0 0 1 0 0 0 0 1 0 0 0 0 0\n",
      "  0 0 0 0 0 0 0 0]\n",
      " [0 0 0 0 0 0 0 1 1 0 1 1 0 0 0 1 0 0 0 0 0 0 0 0 0 0 0 0 1 0 0 0 0 0 0 0\n",
      "  1 0 0 0 0 0 0 0 0 0 0 0 0 0 1 0 0 0 0 0 2 0 0 0 1 0 0 0 0 1 0 0 0 0 0 0\n",
      "  0 0 0 0 0 0 0 0 0 0 0 0 0 0 0 0 0 0 0 1 0 1 0 0 0 1 0 0 0 0 0 0 0 0 0 0\n",
      "  0 1 0 0 1 0 0 0 0 0 0 0 0 0 0 0 0 1 0 0 0 0 0 0 0 0 0 1 0 0 0 0 0 0 0 0\n",
      "  1 0 0 0 0 0 0 0]]\n"
     ]
    }
   ],
   "source": [
    "import numpy as np\n",
    "import sys\n",
    "np.set_printoptions(threshold=sys.maxsize)\n",
    "# View the matrix\n",
    "print(X)"
   ]
  },
  {
   "cell_type": "markdown",
   "metadata": {},
   "source": [
    "##### This is how we implement Bag of Words to a text data and one more thing to note that there is a major drawback in this which is that in the reperesentation matrix above we only see the values in the form of '1's and '0's, and because of that we are not able to distinguish that which word is more important than the other as they have similar vectors. So, in order to solve this problem, we have something called TF-IDF i.e. Term Frequency and Inverse Document Frequency"
   ]
  },
  {
   "cell_type": "markdown",
   "metadata": {},
   "source": [
    "### Now, it's your turn to try this out by yourself. Till then, PEACE...✌️ "
   ]
  },
  {
   "cell_type": "code",
   "execution_count": null,
   "metadata": {},
   "outputs": [],
   "source": []
  }
 ],
 "metadata": {
  "kernelspec": {
   "display_name": "Python 3",
   "language": "python",
   "name": "python3"
  },
  "language_info": {
   "codemirror_mode": {
    "name": "ipython",
    "version": 3
   },
   "file_extension": ".py",
   "mimetype": "text/x-python",
   "name": "python",
   "nbconvert_exporter": "python",
   "pygments_lexer": "ipython3",
   "version": "3.8.3"
  }
 },
 "nbformat": 4,
 "nbformat_minor": 4
}
