{
 "cells": [
  {
   "cell_type": "code",
   "execution_count": 1,
   "metadata": {},
   "outputs": [],
   "source": [
    "# Import the library\n",
    "import nltk\n",
    "# This will download all the essential packages inside the nltk library\n",
    "nltk.download()"
   ]
  },
  {
   "cell_type": "code",
   "execution_count": 2,
   "metadata": {},
   "outputs": [],
   "source": [
    "# Defining the data (Major Real Madrid Fan, Hala Madrid!)\n",
    "paragraph = \"\"\"Real Madrid simply show no sign of letting up. The LaLiga table-toppers saw off Alavés at \n",
    "               the Di Stéfano to make it eight wins on the bounce and retain the four-point buffer at the \n",
    "               summit with three games to go. The Madrid goals came from Karim Benzema, who converted \n",
    "               from the spot, whilst Marco Asensio was also on the mark for the hosts, who recorded a fifth \n",
    "               successive shutout. Ferland Mendy started at left wing-back, with Lucas Vázquez occupying \n",
    "               the right wing-back berth and inside the first minute, the pair were involved in the madridistas' \n",
    "               first forward foray, which culminated in Luka Modric sending his effort wide of the target. \n",
    "               The Alavés response wasn't long in coming and Joselu's headed effort struck the crossbar, \n",
    "               whilst Raphaël Varane cleared a Lucas Pérez's follow-up off the line. It looked as if we were \n",
    "               in store for a high-tempo affair and just after the 10-minute mark, Mendy once again showed what a \n",
    "               threat he is down the left. Ximo Navarro upended the Frenchman in the area and Benzema stepped \n",
    "               up to make it 1-0. \"\"\""
   ]
  },
  {
   "cell_type": "markdown",
   "metadata": {},
   "source": [
    "##### Once we execute this we see that all the sentences have been taken as a list."
   ]
  },
  {
   "cell_type": "code",
   "execution_count": 3,
   "metadata": {},
   "outputs": [
    {
     "name": "stdout",
     "output_type": "stream",
     "text": [
      "['Real Madrid simply show no sign of letting up.', 'The LaLiga table-toppers saw off Alavés at \\n               the Di Stéfano to make it eight wins on the bounce and retain the four-point buffer at the \\n               summit with three games to go.', 'The Madrid goals came from Karim Benzema, who converted \\n               from the spot, whilst Marco Asensio was also on the mark for the hosts, who recorded a fifth \\n               successive shutout.', \"Ferland Mendy started at left wing-back, with Lucas Vázquez occupying \\n               the right wing-back berth and inside the first minute, the pair were involved in the madridistas' \\n               first forward foray, which culminated in Luka Modric sending his effort wide of the target.\", \"The Alavés response wasn't long in coming and Joselu's headed effort struck the crossbar, \\n               whilst Raphaël Varane cleared a Lucas Pérez's follow-up off the line.\", 'It looked as if we were \\n               in store for a high-tempo affair and just after the 10-minute mark, Mendy once again showed what a \\n               threat he is down the left.', 'Ximo Navarro upended the Frenchman in the area and Benzema stepped \\n               up to make it 1-0.']\n",
      "7\n"
     ]
    }
   ],
   "source": [
    "# Tokenizing sentences (converting the paragraph into sentences)\n",
    "sentences = nltk.sent_tokenize(paragraph)\n",
    "print(sentences)\n",
    "print(len(sentences))"
   ]
  },
  {
   "cell_type": "markdown",
   "metadata": {},
   "source": [
    "##### Here, we see that all the sentences in the paragraph has been converted into words."
   ]
  },
  {
   "cell_type": "code",
   "execution_count": 4,
   "metadata": {},
   "outputs": [
    {
     "name": "stdout",
     "output_type": "stream",
     "text": [
      "['Real', 'Madrid', 'simply', 'show', 'no', 'sign', 'of', 'letting', 'up', '.', 'The', 'LaLiga', 'table-toppers', 'saw', 'off', 'Alavés', 'at', 'the', 'Di', 'Stéfano', 'to', 'make', 'it', 'eight', 'wins', 'on', 'the', 'bounce', 'and', 'retain', 'the', 'four-point', 'buffer', 'at', 'the', 'summit', 'with', 'three', 'games', 'to', 'go', '.', 'The', 'Madrid', 'goals', 'came', 'from', 'Karim', 'Benzema', ',', 'who', 'converted', 'from', 'the', 'spot', ',', 'whilst', 'Marco', 'Asensio', 'was', 'also', 'on', 'the', 'mark', 'for', 'the', 'hosts', ',', 'who', 'recorded', 'a', 'fifth', 'successive', 'shutout', '.', 'Ferland', 'Mendy', 'started', 'at', 'left', 'wing-back', ',', 'with', 'Lucas', 'Vázquez', 'occupying', 'the', 'right', 'wing-back', 'berth', 'and', 'inside', 'the', 'first', 'minute', ',', 'the', 'pair', 'were', 'involved', 'in', 'the', 'madridistas', \"'\", 'first', 'forward', 'foray', ',', 'which', 'culminated', 'in', 'Luka', 'Modric', 'sending', 'his', 'effort', 'wide', 'of', 'the', 'target', '.', 'The', 'Alavés', 'response', 'was', \"n't\", 'long', 'in', 'coming', 'and', 'Joselu', \"'s\", 'headed', 'effort', 'struck', 'the', 'crossbar', ',', 'whilst', 'Raphaël', 'Varane', 'cleared', 'a', 'Lucas', 'Pérez', \"'s\", 'follow-up', 'off', 'the', 'line', '.', 'It', 'looked', 'as', 'if', 'we', 'were', 'in', 'store', 'for', 'a', 'high-tempo', 'affair', 'and', 'just', 'after', 'the', '10-minute', 'mark', ',', 'Mendy', 'once', 'again', 'showed', 'what', 'a', 'threat', 'he', 'is', 'down', 'the', 'left', '.', 'Ximo', 'Navarro', 'upended', 'the', 'Frenchman', 'in', 'the', 'area', 'and', 'Benzema', 'stepped', 'up', 'to', 'make', 'it', '1-0', '.']\n",
      "200\n"
     ]
    }
   ],
   "source": [
    "# Tokenizing words\n",
    "words = nltk.word_tokenize(paragraph)\n",
    "print(words)\n",
    "print(len(words))"
   ]
  },
  {
   "cell_type": "code",
   "execution_count": null,
   "metadata": {},
   "outputs": [],
   "source": []
  }
 ],
 "metadata": {
  "kernelspec": {
   "display_name": "Python 3",
   "language": "python",
   "name": "python3"
  },
  "language_info": {
   "codemirror_mode": {
    "name": "ipython",
    "version": 3
   },
   "file_extension": ".py",
   "mimetype": "text/x-python",
   "name": "python",
   "nbconvert_exporter": "python",
   "pygments_lexer": "ipython3",
   "version": "3.8.3"
  }
 },
 "nbformat": 4,
 "nbformat_minor": 4
}
